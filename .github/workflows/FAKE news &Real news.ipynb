id: unique id for a news article

title: the title of a news article

author: author of the news article

text: the text of the article; could be incomplete

label: a label that marks whether the news article is real or fake

0.Fake news

1.real news
#=============================================================================
#import libary
import numpy as np
import pandas as pd
import re
from nltk.corpus import stopwords
from nltk.stem.porter import PorterStemmer
from sklearn.feature_extraction.text import TfidfVectorizer
from sklearn.model_selection import train_test_split
from sklearn.linear_model import LogisticRegression
from sklearn.metrics import accuracy_score

#========================================================
import nltk
nltk.download('stopwords')

#===================================
# printing stopwords in   English
print (stopwords.words('english'))
#=================================

# loding the dataset to pandas Data Fream
news_dataset = pd.read_csv('E:/contentrain.csv')
#================================================
news_dataset.shape
#======================================
# print the first 5 of the dataframe
news_dataset.head()
#======================================
# councting the number of missing in the data set
news_dataset.isnull().sum()
#==============================================

# councting the number of missing in the data set
news_dataset.isnull().sum()

#===============================================================
# raplacing null values with empty string
news_dataset.fillna('')
#===========================================================
# merging the author and news title
news_dataset['content'] = news_dataset['author'] +' '+news_dataset['title']
#===========================================================================
print(news_dataset['content'])
#====================================
# separthing data & labael
X =news_dataset.drop(columns='label', axis=1)
Y = news_dataset['label']
#============================================
print(X)
print(Y)
#====================================
port_stem = PorterStemmer()
#================================
def stemming(content):
    stemmed_content = re.sub('[^a-zA-Z]',' ',content)
    stemmed_content = stemmed_content.lower()
    stemmed_content = stemmed_content.split()
    stemmed_content = [port_stem.stem(word) for word in stemmed_content if not word in stopwords.words('english')]
    stemmed_content = ' '.join(stemmed_content)
    return stemmed_content
#===================================================================================================================

news_dataset['content'] = news_dataset['content'].apply(str)
#================================================================
print(news_dataset['content'])
#======================================
X = news_dataset['content'].values
Y = news_dataset['label'].values
#=====================================
print(X)

print(Y)
#=============================================================
Y.shape
#========================================================
# converting the textual data to numerical data
vectorizer = TfidfVectorizer()
vectorizer.fit(X)
#===================================================
X = vectorizer.transform(X)

print(X)
#=================================
X_train, X_test, Y_train, Y_test = train_test_split(X, Y,test_size=0.2,stratify=Y,random_state=2)

#======================================================================================================

model = LogisticRegression()
#=====================================
model.fit(X_train, Y_train)
#======================================
# accuracy score on the training data
X_train_prediction = model.predict(X_train)
training_data_accuracy = accuracy_score(X_train_prediction, Y_train)

print('Accuracy score of the training data :',training_data_accuracy)
#============================================================================
# accuracy score on the test data
X_test_prediction = model.predict(X_test)
test_data_accuracy = accuracy_score(X_test_prediction, Y_test)

print('Accuracy score of the test data :',test_data_accuracy)
#============================================================================

X_new = X_test[3]
#=========================
prediction = model.predict(X_new)
print(prediction)
#=================================================
if (prediction[0]==0):
  print('The news is Real')
else:
  print('The news is Fake')

print(Y_test[3])


