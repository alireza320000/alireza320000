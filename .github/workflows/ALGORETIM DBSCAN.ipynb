#import libarary
%matplotlib inline
import numpy as np
from sklearn import metrics
import matplotlib.pyplot as plt
from sklearn.datasets import make_blobs
from sklearn.datasets import make_circles
from sklearn.preprocessing import StandardScaler
from sklearn.cluster import DBSCAN

#====================================================
X, y = make_blobs(n_samples=500,n_features=2,
centers=4, cluster_std=1,
center_box=(-10.0, 10.0),
shuffle=True, random_state=1)
X = StandardScaler().fit_transform(X)
y_pred = DBSCAN(eps=0.3, min_samples=30).fit_predict(X)
plt.scatter(X[:,0], X[:,1],c=y)

print('Number of clusters: {}'.format(len(set(y_pred[np.where(y_pred != -1)]))));
print('Homogeneity: {}'.format(metrics.homogeneity_score(y, y_pred)));
print('Completeness: {}'.format(metrics.completeness_score(y, y_pred)));
#====================================================================================
X, y = make_circles(n_samples=1000, factor=0.3, noise=0.1)

X = StandardScaler().fit_transform(X)

y_pred = DBSCAN(eps=0.3, min_samples=10).fit_predict(X)
plt.scatter(X[:, 0], X[: , 1], c=y_pred,cmap=plt.cm.)


print('Number of clusters: {}'.format(len(set(y_pred[np.where(y_pred != -1)]))))
print('Homogeneity: {}'.format(metrics.homogeneity_score(y, y_pred)))
print('Completeness: {}'.format(metrics.completeness_score(y, y_pred)))

#==================================================================================
X, y = make_circles(n_samples=1000, factor=0.3, noise=0.1)

X = StandardScaler().fit_transform(X)

y_pred = DBSCAN().fit_predict(X)
plt.scatter(X[:, 0], X[: , 1], c=y_pred,cmap=plt.cm.coolwarm)


print('Number of clusters: {}'.format(len(set(y_pred[np.where(y_pred != -1)]))))
print('Homogeneity: {}'.format(metrics.homogeneity_score(y, y_pred)))
print('Completeness: {}'.format(metrics.completeness_score(y, y_pred)))

