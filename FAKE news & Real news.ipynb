
    "id: unique id for a news article
   
    title: the title of a news article
   
    author: author of the news article
     
    text: the text of the article; could be incomplete
       
    label: a label that marks whether the news article is real or fake
    
    0.Fake news
   
    1.real news
 
    import numpy as np
    import pandas as pd
    import re
    from nltk.corpus import stopwords
    from nltk.stem.porter import PorterStemmer
    from sklearn.feature_extraction.text import TfidfVectorizer
    from sklearn.model_selection import train_test_split
    from sklearn.linear_model import LogisticRegression
    from sklearn.metrics import accuracy_score
 

      [nltk_data] Downloading package stopwords to
      [nltk_data]     10\\AppData\\Roaming\\nltk_data...
      [nltk_data]   Package stopwords is already up-to-date!
     

    import nltk\n
    nltk.download('stopwords')
 
      ['i', 'me', 'my', 'myself', 'we', 'our', 'ours', 'ourselves', 'you', "you're", "you've", "you'll", "you'd", 'your', 'yours', 'yourself', 'yourselves', 'he', 'him', 'his', 'himself', 'she', "she's\", 'her', 'hers', 'herself', 'it', "it's", 'its', 'itself', 'they', 'them', 'their', 'theirs', 'themselves', 'what', 'which', 'who', 'whom', 'this', 'that', "that'll", 'these', 'those', 'am', 'is', 'are', 'was', 'were', 'be', 'been', 'being', 'have', 'has', 'had', 'having', 'do', 'does', 'did', 'doing', 'a', 'an', 'the', 'and', 'but', 'if', 'or', 'because', 'as', 'until', 'while', 'of', 'at', 'by', 'for', 'with', 'about', 'against', 'between', 'into', 'through', 'during', 'before', 'after', 'above', 'below', 'to', 'from', 'up', 'down', 'in', 'out', 'on', 'off', 'over', 'under', 'again', 'further', 'then', 'once', 'here', 'there', 'when', 'where', 'why', 'how', 'all', 'any', 'both', 'each', 'few', 'more', 'most', 'other', 'some', 'such', 'no', 'nor', 'not', 'only', 'own', 'same', 'so', 'than', 'too', 'very', 's', 't', 'can', 'will', 'just', 'don', "don't", 'should', "should've", 'now', 'd', 'll', 'm', 'o', 're', 've', 'y', 'ain', 'aren', "aren't", 'couldn', "couldn't", 'didn', "didn't", 'doesn', "doesn't", 'hadn', "hadn't", 'hasn', "hasn't", 'haven', "haven't", 'isn', "isn't", 'ma', 'mightn', "mightn't", 'mustn', "mustn't", 'needn', "needn't", 'shan', "shan't", 'shouldn', "shouldn't", 'wasn', "wasn't", 'weren', "weren't", 'won', "won't", 'wouldn', "wouldn't"]
    
    # printing stopwords in   English
    print (stopwords.words('english'))


    # loding the dataset to pandas Data Fream
    news_dataset = pd.read_csv('E:/contentrain.csv')


    news_dataset.shape
  
       id                                              title              author 
       0   0  House Dem Aide: We Didn’t Even See Comey’s Let...       Darrell Lucus   
       1   1  FLYNN: Hillary Clinton, Big Woman on Campus - ...     Daniel J. Flynn   
       2   2                  Why the Truth Might Get You Fired  Consortiumnews.com   
       3   3  15 Civilians Killed In Single US Airstrike Hav...     Jessica Purkiss   
       4   4  Iranian woman jailed for fictional unpublished...      Howard Portnoy   
                                               text  label  \n",
       0  House Dem Aide: We Didn’t Even See Comey’s Let...      1  
       1  Ever get the feeling your life circles the rou...      0  
       2  Why the Truth Might Get You Fired October 29, ...      1 
       3  Videos 15 Civilians Killed In Single US Airstr...      1  
       4  Print \\nAn Iranian woman has been sentenced to...      1  
   

    "# print the first 5 of the dataframe
    "news_dataset.head()


    # councting the number of missing in the data set
    news_dataset.isnull().sum()


    # merging the author and news title
    news_dataset['content'] = news_dataset['author'] +' '+news_dataset['title']


  
                 id                                              title  
       0          0  House Dem Aide: We Didn’t Even See Comey’s Let...   
       1          1  FLYNN: Hillary Clinton, Big Woman on Campus - ...   
       2          2                  Why the Truth Might Get You Fired   
       3          3  15 Civilians Killed In Single US Airstrike Hav...   
       4          4  Iranian woman jailed for fictional unpublished...   
       ...      ...                                                ...   
       20795  20795  Rapper T.I.: Trump a ’Poster Child For White S...   
       20796  20796  N.F.L. Playoffs: Schedule, Matchups and Odds -...   
       20797  20797  Macy’s Is Said to Receive Takeover Approach by...   
       20798  20798  NATO, Russia To Hold Parallel Exercises In Bal...   
       20799  20799                          What Keeps the F-35 Alive   
      
                                         author 
       0                                  Darrell Lucus   
       1                                Daniel J. Flynn   
       2                             Consortiumnews.com   
       3                                Jessica Purkiss  
       4                                 Howard Portnoy   
       ...                                          ...  
       20795                              Jerome Hudson  
       20796                           Benjamin Hoffman   
       20797  Michael J. de la Merced and Rachel Abrams   
       20798                                Alex Ansary   
       20799                              David Swanson   
      
                                                      text  label 
       0      House Dem Aide: We Didn’t Even See Comey’s Let...      1  
       1      Ever get the feeling your life circles the rou...      0   
       2      Why the Truth Might Get You Fired October 29, ...      1  
       3      Videos 15 Civilians Killed In Single US Airstr...      1  
       4      Print \\nAn Iranian woman has been sentenced to...      1   
       ...                                                  ...    ...   
       20795  Rapper T. I. unloaded on black celebrities who...      0  
       20796  When the Green Bay Packers lost to the Washing...      0   
       20797  The Macy’s of today grew from the union of sev...      0  
       20798  NATO, Russia To Hold Parallel Exercises In Bal...      1   
       20799    David Swanson is an author, activist, journa...      1   
       
                                                        content  
       0      Darrell Lucus House Dem Aide: We Didn’t Even S... 
       1      Daniel J. Flynn FLYNN: Hillary Clinton, Big Wo...  
       2      Consortiumnews.com Why the Truth Might Get You... 
       3      Jessica Purkiss 15 Civilians Killed In Single ...  
       4      Howard Portnoy Iranian woman jailed for fictio...  
       ...                                                  ...  
       20795  Jerome Hudson Rapper T.I.: Trump a ’Poster Chi...  
       20796  Benjamin Hoffman N.F.L. Playoffs: Schedule, Ma...  
       20797  Michael J. de la Merced and Rachel Abrams Macy... 
       20798  Alex Ansary NATO, Russia To Hold Parallel Exer...  
       20799            David Swanson What Keeps the F-35 Alive  
      
       [20800 rows x 6 columns]"


     #null values with empty string
     port_stem = PorterStemmer()


    # merging the author and news title
    news_dataset['content'] = news_dataset['author'] +' '+news_dataset['title']
   
      0        Darrell Lucus House Dem Aide: We Didn’t Even S...
      1        Daniel J. Flynn FLYNN: Hillary Clinton, Big Wo...
      2        Consortiumnews.com Why the Truth Might Get You...
      3        Jessica Purkiss 15 Civilians Killed In Single ...
      4        Howard Portnoy Iranian woman jailed for fictio...
                                     ...                        
      20795    Jerome Hudson Rapper T.I.: Trump a ’Poster Chi...
      20796    Benjamin Hoffman N.F.L. Playoffs: Schedule, Ma...
      20797    Michael J. de la Merced and Rachel Abrams Macy...
      20798    Alex Ansary NATO, Russia To Hold Parallel Exer...
      20799              David Swanson What Keeps the F-35 Alive
      Name: content, Length: 20800, dtype: object\n"
    

    print(news_dataset['content'])
 
    # separthing data & labael
    X =news_dataset.drop(columns='label', axis=1)
    Y = news_dataset['label']
   
      "          id                                              title  
      0          0  House Dem Aide: We Didn’t Even See Comey’s Let   
      1          1  FLYNN: Hillary Clinton, Big Woman on Campus - .   
      2          2                  Why the Truth Might Get You Fired   
      3          3  15 Civilians Killed In Single US Airstrike Hav   
      4          4  Iranian woman jailed for fictional unpublished 
      ...      ...                                                  
      20795  20795  Rapper T.I.: Trump a ’Poster Child For White S   
      20796  20796  N.F.L. Playoffs: Schedule, Matchups and Odds -
      20797  20797  Macy’s Is Said to Receive Takeover Approach by 
      20798  20798  NATO, Russia To Hold Parallel Exercises In Bal
      20799  20799                          What Keeps the F-35 Alive   
      
                                               author  
      0                                  Darrell Lucus   
      2                             Consortiumnews.com   
      3                                Jessica Purkiss   
      4                                 Howard Portnoy   
      ...                                          ...  
      20795                              Jerome Hudson   
      20796                           Benjamin Hoffman   
      20797  Michael J. de la Merced and Rachel Abrams   
      20798                                Alex Ansary   
      20799                              David Swanson   
    
                                                          text  
      0      House Dem Aide: We Didn’t Even See Comey’s Let...   
      1      Ever get the feeling your life circles the rou...  
      2      Why the Truth Might Get You Fired October 29, ...   
      3      Videos 15 Civilians Killed In Single US Airstr...   
      4      Print \\nAn Iranian woman has been sentenced to...   
     ...                                                  ...   
      20795  Rapper T. I. unloaded on black celebrities who...   
      20796  When the Green Bay Packers lost to the Washing...   
      20797  The Macy’s of today grew from the union of sev...   
      20798  NATO, Russia To Hold Parallel Exercises In Bal...   
      20799    David Swanson is an author, activist, journa...  
     
                                                       content  
      0      Darrell Lucus House Dem Aide: We Didn’t Even S...  
      1      Daniel J. Flynn FLYNN: Hillary Clinton, Big Wo...  
      2      Consortiumnews.com Why the Truth Might Get You...  
      3      Jessica Purkiss 15 Civilians Killed In Single ... 
      4      Howard Portnoy Iranian woman jailed for fictio...  
      ...                                                  ...  
      20795  Jerome Hudson Rapper T.I.: Trump a ’Poster Chi...  
      20796  Benjamin Hoffman N.F.L. Playoffs: Schedule, Ma...  
      20797  Michael J. de la Merced and Rachel Abrams Macy... 
      20798  Alex Ansary NATO, Russia To Hold Parallel Exer...  
      20799            David Swanson What Keeps the F-35 Alive  
      
      [20800 rows x 5 columns]
      0        1
      1        1
      2        1
      3        1
      4        1
              ..
      20795    0
      20796    0
      20797    0
      20798    1
      20799    1
      Name: label, Length: 20800, dtype: int64
    
    print(X)
    print(Y)

    steming process of reducing a word to its Root word

    actor , actress, acting --> act"
 
    port_stem = PorterStemmer()
   
    def stemming(content):
        stemmed_content = re.sub('[^a-zA-Z]',' ',content)
        stemmed_content = stemmed_content.lower()
        stemmed_content = stemmed_content.split()
        stemmed_content = [port_stem.stem(word) for word in stemmed_content if not word in stopwords.words('english')]
        stemmed_content = ' '.join(stemmed_content)
        return stemmed_content"

  
    news_dataset['content'] = news_dataset['content'].apply(str)

    print(news_dataset['content'])"


 
      0        Darrell Lucus House Dem Aide: We Didn’t Even S
      1        Daniel J. Flynn FLYNN: Hillary Clinton, Big Wo
      2        Consortiumnews.com Why the Truth Might Get You
      3        Jessica Purkiss 15 Civilians Killed In Single 
      4        Howard Portnoy Iranian woman jailed for fictio
                                     ...                       
      20795    Jerome Hudson Rapper T.I.: Trump a ’Poster Chi
      20796    Benjamin Hoffman N.F.L. Playoffs: Schedule, Ma
      20797    Michael J. de la Merced and Rachel Abrams Macy
      20798    Alex Ansary NATO, Russia To Hold Parallel Exer
      20799              David Swanson What Keeps the F-35 Alive
      Name: content, Length: 20800, dtype: object\n"
  

 


    X = news_dataset['content'].values
    Y = news_dataset['label'].values
      
      print(X)

     ['Darrell Lucus House Dem Aide: We Didn’t Even See Comey’s Letter Until Jason Chaffetz Tweeted It'
     'Daniel J. Flynn FLYNN: Hillary Clinton, Big Woman on Campus - Breitbart
      'Consortiumnews.com Why the Truth Might Get You Fired'
      'Michael J. de la Merced and Rachel Abrams Macy’s Is Said to Receive Takeover Approach by Hudson’s Bay - The New York Times
     'Alex Ansary NATO, Russia To Hold Parallel Exercises In Balkans
      'David Swanson What Keeps the F-35 Alive']
    
   
    print(Y)
   
   [1 0 1 ... 0 1 1]
   
  
    # converting the textual data to numerical data
    "vectorizer = TfidfVectorizer()
    "vectorizer.fit(X)
   
    "X = vectorizer.transform(X)
 
     "text": [
        (0, 21779)\t0.1815073237820376
        (0, 21125)\t0.2702789788532812
        (0, 20794)\t0.3444725998231082
        (0, 17883)\t0.2246866205253603
        (0, 12046)\t0.2990072566658748
        (0, 11689)\t0.24971077104217873
        (0, 10657)\t0.20488751270894362
        (0, 10559)\t0.15453665306055495
        (0, 9708)\t0.18427133691074812
        (0, 7062)\t0.22914256323107624
        (0, 5739)\t0.24818911212666975
        (0, 5421)\t0.24818911212666975
        (0, 5142)\t0.2990072566658748
        (0, 4202)\t0.20576237430417024
        (0, 3597)\t0.3101507937873876\n
        (0, 843)\t0.2638990660507234\n
        (1, 22152)\t0.30115379423155725
        (1, 14123)\t0.1613179137611923
        (1, 9471)\t0.19256474395011988
        (1, 7862)\t0.7001643288235277
        (1, 5105)\t0.26182005770192585
        (1, 4004)\t0.19513664630807576
        (1, 3261)\t0.37514222440000566
        (1, 2864)\t0.15214163826848767
        (1, 2362)\t0.292343693244767\n
        
        (20797, 10517)\t0.12650790266249798
        (20797, 9743)\t0.20630992576636445
        (20797, 5190)\t0.2090390876474378
        (20797, 3159)\t0.14626936379698277
        (20797, 2111)\t0.3170998027798729
        (20797, 1372)\t0.2970786188328364
        (20797, 1152)\t0.09998145136938631
        (20797, 505)\t0.2861530832930508\n
        (20798, 20324)\t0.11294792683766804
        (20798, 17373)\t0.22239945672946546
        (20798, 14573)\t0.42662749541285416
        (20798, 13523)\t0.3088125110492585
        (20798, 10055)\t0.12576444463220002
        (20798, 9560)\t0.33667652496767764
        (20798, 7155)\t0.42662749541285416
        (20798, 1922)\t0.43947043690080384
        (20798, 1233)\t0.29124605271938153
        (20798, 942)\t0.26696017431840274
        (20799, 21911)\t0.27218143719967247
        (20799, 20127)\t0.1032319579412451
  
    "print(X)"
  
    "X_train, X_test, Y_train, Y_test = train_test_split(X, Y,test_size=0.2,stratify=Y,random_state=2)"
 
    model = LogisticRegression()
   
     
    model.fit(X_train, Y_train)
  
    # accuracy score on the training data

    X_train_prediction = model.predict(X_train)

    training_data_accuracy = accuracy_score(X_train_prediction, Y_train)
 
      Accuracy score of the training data : 0.9906850961538461
     
    print('Accuracy score of the training data :',training_data_accuracy)
   
    # accuracy score on the test data

    X_test_prediction = model.predict(X_test)

    test_data_accuracy = accuracy_score(X_test_prediction, Y_test)

      "Accuracy score of the test data : 0.9848557692307692
     
    "print('Accuracy score of the test data :',test_data_accuracy)
  
 
      "The news is Real
    
    "X_new = X_test[3]
    
    "prediction = model.predict(X_new)
    "print(prediction)
    if (prediction[0]==0):
     print('The news is Real')
      print('The news is Fake')
   

    "print(Y_test[3])"
   